{
  "metadata": {
    "language_info": {
      "codemirror_mode": {
        "name": "python",
        "version": 3
      },
      "file_extension": ".py",
      "mimetype": "text/x-python",
      "name": "python",
      "nbconvert_exporter": "python",
      "pygments_lexer": "ipython3",
      "version": "3.8"
    },
    "kernelspec": {
      "name": "python",
      "display_name": "Python (Pyodide)",
      "language": "python"
    }
  },
  "nbformat_minor": 4,
  "nbformat": 4,
  "cells": [
    {
      "cell_type": "code",
      "source": "class Test:\n    @staticmethod\n    def assert_equals(a, b, *args, **kwargs):\n        assert a == b\n        print('Passed')",
      "metadata": {
        "trusted": true
      },
      "execution_count": 1,
      "outputs": []
    },
    {
      "cell_type": "code",
      "source": "1. Problem https://edabit.com/challenge/xRMQG4Sxewx5agDRr (2 point)",
      "metadata": {},
      "execution_count": null,
      "outputs": []
    },
    {
      "cell_type": "code",
      "source": "def find_highest(lst):\n    if len(lst) == 1:\n        return lst[0]\n    r = find_highest(lst[1:])\n    return r if r>= lst[0] else lst[0]",
      "metadata": {
        "trusted": true
      },
      "execution_count": 4,
      "outputs": []
    },
    {
      "cell_type": "code",
      "source": "Test.assert_equals(find_highest([8]), 8)\nTest.assert_equals(find_highest([-1, 3, 5, 6, 99, 12, 2]), 99)\nTest.assert_equals(find_highest([0, 12, 4, 87]), 87)",
      "metadata": {
        "trusted": true
      },
      "execution_count": 5,
      "outputs": [
        {
          "name": "stdout",
          "text": "Passed\nPassed\nPassed\n",
          "output_type": "stream"
        }
      ]
    },
    {
      "cell_type": "code",
      "source": "2. Problem https://edabit.com/challenge/AJGqpNL2yAyhbdpvB (2 point)",
      "metadata": {},
      "execution_count": null,
      "outputs": []
    },
    {
      "cell_type": "code",
      "source": "def V_DAC(value):\n    return round(5*value/1023, 2)",
      "metadata": {
        "trusted": true
      },
      "execution_count": 7,
      "outputs": []
    },
    {
      "cell_type": "code",
      "source": "Test.assert_equals(V_DAC(1023), 5)\nTest.assert_equals(V_DAC(0), 0)\nTest.assert_equals(V_DAC(500), 2.44)\nTest.assert_equals(V_DAC(400), 1.96)\nTest.assert_equals(V_DAC(850), 4.15)",
      "metadata": {
        "tags": [],
        "trusted": true
      },
      "execution_count": 8,
      "outputs": [
        {
          "name": "stdout",
          "text": "Passed\nPassed\nPassed\nPassed\nPassed\n",
          "output_type": "stream"
        }
      ]
    },
    {
      "cell_type": "code",
      "source": "3. https://edabit.com/challenge/5XXXppAdfcGaootD9 (2 point)",
      "metadata": {},
      "execution_count": null,
      "outputs": []
    },
    {
      "cell_type": "code",
      "source": "def sum_odd_and_even(lst):\n    odd, even = 0, 0\n    for i in lst:\n        if i % 2:\n            odd += i\n        else:\n            even += i\n    return [even, odd]",
      "metadata": {
        "trusted": true
      },
      "execution_count": 9,
      "outputs": []
    },
    {
      "cell_type": "code",
      "source": "Test.assert_equals(sum_odd_and_even([1, 2, 3, 4, 5, 6]), [12, 9])\nTest.assert_equals(sum_odd_and_even([-1, -2, -3, -4, -5, -6]), [-12, -9])\nTest.assert_equals(sum_odd_and_even([0, 0]), [0, 0])\nTest.assert_equals(sum_odd_and_even([]), [0, 0])",
      "metadata": {
        "trusted": true
      },
      "execution_count": 10,
      "outputs": [
        {
          "name": "stdout",
          "text": "Passed\nPassed\nPassed\nPassed\n",
          "output_type": "stream"
        }
      ]
    },
    {
      "cell_type": "code",
      "source": "4. https://edabit.com/challenge/noqQNSr5o9qzvXWzL (2 point)",
      "metadata": {},
      "execution_count": null,
      "outputs": []
    },
    {
      "cell_type": "code",
      "source": "def shift_to_right(x, y):\n    return x // 2 ** y",
      "metadata": {
        "trusted": true
      },
      "execution_count": 11,
      "outputs": []
    },
    {
      "cell_type": "code",
      "source": "num_vector = [[80, 3], [-24, 2], [-5, 1], [38, 0], [192, 4], [4666, 6], [3777, 6], [1024, 5], [-512, 10]]\nres_vector = [10, -6, -3, 38, 12, 72, 59, 32, -1]\nfor i, (x, y) in enumerate(num_vector): Test.assert_equals(shift_to_right(x, y), res_vector[i])",
      "metadata": {
        "trusted": true
      },
      "execution_count": 12,
      "outputs": [
        {
          "name": "stdout",
          "text": "Passed\nPassed\nPassed\nPassed\nPassed\nPassed\nPassed\nPassed\nPassed\n",
          "output_type": "stream"
        }
      ]
    },
    {
      "cell_type": "code",
      "source": "5. https://edabit.com/challenge/zkKNmC66ASvSm5wJA (3 point)",
      "metadata": {},
      "execution_count": null,
      "outputs": []
    },
    {
      "cell_type": "code",
      "source": "def perimeter(l, num):\n    return [4, 6.28][l == \"c\"] * num",
      "metadata": {
        "trusted": true
      },
      "execution_count": 13,
      "outputs": []
    },
    {
      "cell_type": "code",
      "source": "Test.assert_equals(perimeter(\"s\", 1), 4)\nTest.assert_equals(perimeter(\"s\", 4), 16)\nTest.assert_equals(perimeter(\"s\", 9), 36)\nTest.assert_equals(perimeter(\"s\", 13), 52)\nTest.assert_equals(perimeter(\"s\", 30), 120)\nTest.assert_equals(perimeter(\"c\", 1), 6.28)\nTest.assert_equals(perimeter(\"c\", 4), 25.12)\nTest.assert_equals(perimeter(\"c\", 9), 56.52)\nTest.assert_equals(perimeter(\"c\", 13), 81.64)\nTest.assert_equals(perimeter(\"c\", 30), 188.4)",
      "metadata": {
        "trusted": true
      },
      "execution_count": 14,
      "outputs": [
        {
          "name": "stdout",
          "text": "Passed\nPassed\nPassed\nPassed\nPassed\nPassed\nPassed\nPassed\nPassed\nPassed\n",
          "output_type": "stream"
        }
      ]
    },
    {
      "cell_type": "code",
      "source": "6. https://edabit.com/challenge/QN4RMpAnktNvMCWwg (4 point)",
      "metadata": {},
      "execution_count": null,
      "outputs": []
    },
    {
      "cell_type": "code",
      "source": "def id_mtrx(n):\n    i = 0\n    j = 0\n    if type(n) != int:\n        return 'Error'\n    elif n >= 0:\n        return [[1 if i == j else 0 for i in range(n)]for j in range(n)]\n    elif n < 0:\n        return [[1 if i == j else 0 for i in range(abs(n))]for j in range(abs(n))][::-1]",
      "metadata": {
        "trusted": true
      },
      "execution_count": 17,
      "outputs": []
    },
    {
      "cell_type": "code",
      "source": "Test.assert_equals(id_mtrx(1), [[1]])\nTest.assert_equals(id_mtrx(2), [[1, 0], [0, 1]])\nTest.assert_equals(id_mtrx(3), [[1, 0, 0], [0, 1, 0], [0, 0, 1]])\nTest.assert_equals(id_mtrx(4), [[1, 0, 0, 0], [0, 1, 0, 0], [0, 0, 1, 0], [0, 0, 0, 1]])\nTest.assert_equals(id_mtrx(-6), [[0, 0, 0, 0, 0, 1], [0, 0, 0, 0, 1, 0], [0, 0, 0, 1, 0, 0], [0, 0, 1, 0, 0, 0], [0, 1, 0, 0, 0, 0], [1, 0, 0, 0, 0, 0]])\nTest.assert_equals(id_mtrx(\"edabit\"), \"Error\", 'Incompatible types passed as n should return the string \"Error\".')",
      "metadata": {
        "trusted": true
      },
      "execution_count": 18,
      "outputs": [
        {
          "name": "stdout",
          "text": "Passed\nPassed\nPassed\nPassed\nPassed\nPassed\n",
          "output_type": "stream"
        }
      ]
    }
  ]
}