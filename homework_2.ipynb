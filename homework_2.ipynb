{
  "metadata": {
    "language_info": {
      "codemirror_mode": {
        "name": "python",
        "version": 3
      },
      "file_extension": ".py",
      "mimetype": "text/x-python",
      "name": "python",
      "nbconvert_exporter": "python",
      "pygments_lexer": "ipython3",
      "version": "3.8"
    },
    "kernelspec": {
      "name": "python",
      "display_name": "Python (Pyodide)",
      "language": "python"
    }
  },
  "nbformat_minor": 4,
  "nbformat": 4,
  "cells": [
    {
      "cell_type": "code",
      "source": "import numpy as np",
      "metadata": {
        "trusted": true
      },
      "execution_count": 2,
      "outputs": []
    },
    {
      "cell_type": "code",
      "source": "Task 1",
      "metadata": {},
      "execution_count": null,
      "outputs": []
    },
    {
      "cell_type": "code",
      "source": "Z = np.diag(np.arange(1, 5), k = -1)\nprint(Z)",
      "metadata": {
        "trusted": true
      },
      "execution_count": 11,
      "outputs": [
        {
          "name": "stdout",
          "text": "[[0 0 0 0 0]\n [1 0 0 0 0]\n [0 2 0 0 0]\n [0 0 3 0 0]\n [0 0 0 4 0]]\n",
          "output_type": "stream"
        }
      ]
    },
    {
      "cell_type": "code",
      "source": "Task 2",
      "metadata": {},
      "execution_count": null,
      "outputs": []
    },
    {
      "cell_type": "code",
      "source": "Z = np.random.random((2,10,3))\nb = np.argmin(np.absolute(Z - 0.5), axis = 2)\nprint(Z[0][i][b[i]])\nprint(Z[1][i][b[i]])\nprint(Z)",
      "metadata": {
        "trusted": true
      },
      "execution_count": 45,
      "outputs": [
        {
          "name": "stdout",
          "text": "[0.48553998 0.30963637 0.76709634 0.76709634 0.76709634 0.30963637\n 0.48553998 0.76709634 0.76709634 0.76709634]\n[0.32847798 0.71186282 0.60584671 0.60584671 0.60584671 0.71186282\n 0.32847798 0.60584671 0.60584671 0.60584671]\n[[[0.48553998 0.30963637 0.76709634]\n  [0.26566734 0.60241421 0.39278231]\n  [0.02137063 0.41521531 0.55579928]\n  [0.28476867 0.89811842 0.69614619]\n  [0.10602001 0.55872923 0.54820205]\n  [0.32315328 0.40138245 0.70268753]\n  [0.34461991 0.99245617 0.84703941]\n  [0.58736051 0.03060162 0.55739534]\n  [0.7712796  0.93775791 0.40105402]\n  [0.91755127 0.06010292 0.48158184]]\n\n [[0.32847798 0.71186282 0.60584671]\n  [0.6451399  0.86966182 0.85188385]\n  [0.54518247 0.45309374 0.38021212]\n  [0.87295115 0.0913179  0.06330899]\n  [0.52391843 0.48155874 0.33962928]\n  [0.12785476 0.61124407 0.55339594]\n  [0.62468256 0.80782158 0.13625968]\n  [0.04016238 0.97814309 0.78772267]\n  [0.53377502 0.79350448 0.88793419]\n  [0.56629147 0.09757742 0.03894568]]]\n",
          "output_type": "stream"
        }
      ]
    },
    {
      "cell_type": "code",
      "source": "Task 3",
      "metadata": {},
      "execution_count": null,
      "outputs": []
    },
    {
      "cell_type": "code",
      "source": "Z = np.random.random((6,6))\nb = np.amin(Z, axis = 0)\nfor i in range(6):\n    print(a[i].sum()/b[i])",
      "metadata": {
        "trusted": true
      },
      "execution_count": 88,
      "outputs": [
        {
          "name": "stdout",
          "text": "32.040319574477564\n1054.3214775013776\n198.8166946576951\n",
          "output_type": "stream"
        },
        {
          "ename": "<class 'IndexError'>",
          "evalue": "index 3 is out of bounds for axis 0 with size 3",
          "traceback": [
            "\u001b[0;31m---------------------------------------------------------------------------\u001b[0m",
            "\u001b[0;31mIndexError\u001b[0m                                Traceback (most recent call last)",
            "Cell \u001b[0;32mIn [88], line 4\u001b[0m\n\u001b[1;32m      2\u001b[0m b \u001b[38;5;241m=\u001b[39m np\u001b[38;5;241m.\u001b[39mamin(Z, axis \u001b[38;5;241m=\u001b[39m \u001b[38;5;241m0\u001b[39m)\n\u001b[1;32m      3\u001b[0m \u001b[38;5;28;01mfor\u001b[39;00m i \u001b[38;5;129;01min\u001b[39;00m \u001b[38;5;28mrange\u001b[39m(\u001b[38;5;241m6\u001b[39m):\n\u001b[0;32m----> 4\u001b[0m     \u001b[38;5;28mprint\u001b[39m(a[i]\u001b[38;5;241m.\u001b[39msum()\u001b[38;5;241m/\u001b[39mb[i])\n",
            "\u001b[0;31mIndexError\u001b[0m: index 3 is out of bounds for axis 0 with size 3"
          ],
          "output_type": "error"
        }
      ]
    },
    {
      "cell_type": "code",
      "source": "Task 4",
      "metadata": {},
      "execution_count": null,
      "outputs": []
    },
    {
      "cell_type": "code",
      "source": "x = np.array([6, 2, 0, 3, 0, 0, 5, 7, 0])\nmax(filter(lambda a: (a[1] and not a[0]), zip(x, x[1:])), key=lambda a: a[1])[1]",
      "metadata": {
        "trusted": true
      },
      "execution_count": 111,
      "outputs": [
        {
          "execution_count": 111,
          "output_type": "execute_result",
          "data": {
            "text/plain": "5"
          },
          "metadata": {}
        }
      ]
    },
    {
      "cell_type": "code",
      "source": "Task 5",
      "metadata": {},
      "execution_count": null,
      "outputs": []
    },
    {
      "cell_type": "code",
      "source": "x = np.ones(10)\ni = np.array([0, 1, 2, 3, 5, 5, 5, 8])\nfor k in i:\n    x[k] += 1\nprint(x)",
      "metadata": {
        "trusted": true
      },
      "execution_count": 113,
      "outputs": [
        {
          "name": "stdout",
          "text": "[2. 2. 2. 2. 1. 4. 1. 1. 2. 1.]\n",
          "output_type": "stream"
        }
      ]
    },
    {
      "cell_type": "code",
      "source": "Task 6",
      "metadata": {},
      "execution_count": null,
      "outputs": []
    },
    {
      "cell_type": "code",
      "source": "Z = np.random.uniform(-60, 60, 10)\nprint(Z)\nprint(np.round(Z))\nprint(np.around(Z))",
      "metadata": {
        "trusted": true
      },
      "execution_count": 129,
      "outputs": [
        {
          "name": "stdout",
          "text": "[-18.43675886 -31.28542337  43.63741449 -55.05061399  47.28653226\n   1.57780097 -51.9692228   53.04349003   0.40261586  17.68194068]\n[-18. -31.  44. -55.  47.   2. -52.  53.   0.  18.]\n[-18. -31.  44. -55.  47.   2. -52.  53.   0.  18.]\n",
          "output_type": "stream"
        }
      ]
    },
    {
      "cell_type": "code",
      "source": "Task 7",
      "metadata": {},
      "execution_count": null,
      "outputs": []
    },
    {
      "cell_type": "code",
      "source": "Пока не сделано",
      "metadata": {},
      "execution_count": null,
      "outputs": []
    }
  ]
}